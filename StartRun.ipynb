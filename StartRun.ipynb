{
 "cells": [
  {
   "cell_type": "markdown",
   "metadata": {},
   "source": [
    "# Configuring the Slow Control on the Hawaii Test bench\n",
    "\n",
    "\n",
    "## Drawing of the Hawaii setup\n",
    "\n",
    "![setup](img/BII-KLM Testbench HW Diagram.png)"
   ]
  },
  {
   "cell_type": "markdown",
   "metadata": {},
   "source": [
    "\n",
    "## preparing the script\n",
    "First we have to load some auxillary libraries and configurations for running the script"
   ]
  },
  {
   "cell_type": "code",
   "execution_count": null,
   "metadata": {},
   "outputs": [],
   "source": [
    "import time\n",
    "import  config.config_hawaii as  config\n",
    "from Linux_Helpers.remoteshell2 import remoteShell2\n",
    "from Linux_Helpers.py_reghs import py_reghs\n",
    "from equipment.ScintilatorReadout import ScintilatorReadout\n",
    "import Input_checks\n",
    "import config.registers_DC as  registers_DC\n",
    "from equipment.py_hslb import  py_hslb\n",
    "from equipment.py_ftsw import  py_ftsw\n",
    "from config.local_run_ROI import roi,visualise_ROIs\n",
    "\n",
    "from Jupyter_helpers.Controlflow import button_run_below\n"
   ]
  },
  {
   "cell_type": "markdown",
   "metadata": {},
   "source": [
    "Next we have to connect to the `vme controller` and the `copper`. "
   ]
  },
  {
   "cell_type": "code",
   "execution_count": null,
   "metadata": {},
   "outputs": [],
   "source": [
    "vme = remoteShell2(config.vme_tunnel)\n",
    "ftsw = py_ftsw(vme,config.FTSW_HI)"
   ]
  },
  {
   "cell_type": "code",
   "execution_count": null,
   "metadata": {},
   "outputs": [],
   "source": [
    "cpr = remoteShell2(config.copper_tunnel)\n",
    "hslb =py_hslb(cpr,config.hslb_cpr107)"
   ]
  },
  {
   "cell_type": "markdown",
   "metadata": {},
   "source": [
    "## Checking if copper / vme are configured correctly\n",
    "\n",
    "The lines above should be executed without any complaint. "
   ]
  },
  {
   "cell_type": "code",
   "execution_count": null,
   "metadata": {
    "scrolled": true
   },
   "outputs": [],
   "source": [
    "print(hslb.status())"
   ]
  },
  {
   "cell_type": "markdown",
   "metadata": {},
   "source": [
    "the output should look something like this:\n",
    "<details><summary> `expected`</summary>\n",
    "<p>\n",
    "\n",
    "```\n",
    "staths version 5 (20160114)\n",
    "HSLB-b version 0.61 / KLM firmware 1 serial 0 version 4\n",
    "(b)    stat=18001002 (ff=0 rx=1 pr=0 pt=0 tx=18 masked)\n",
    "(b)    rxdata=00bc rxlinkdown=0 rxcrcerr=0 feecrcerr=0\n",
    "(b)    event=2153958 total=86158kB (avg=40B last=40B max=40B)\n",
    "(b)    no b2link error\n",
    "```\n",
    "\n",
    "</p>\n",
    "</details>\n",
    "\n",
    "if it looks any different boot the HSLB using:\n"
   ]
  },
  {
   "cell_type": "code",
   "execution_count": null,
   "metadata": {},
   "outputs": [],
   "source": [
    "print(hslb.boot())"
   ]
  },
  {
   "cell_type": "markdown",
   "metadata": {},
   "source": [
    "after this make sure the `vme` controller can communicate with the `FTSW`. You can check this with the following command:"
   ]
  },
  {
   "cell_type": "code",
   "execution_count": null,
   "metadata": {},
   "outputs": [],
   "source": [
    "print(ftsw.status())"
   ]
  },
  {
   "cell_type": "markdown",
   "metadata": {},
   "source": [
    "<details><summary> `expected` </summary>\n",
    "<p>\n",
    "the output should be something like this:\n",
    "</p>\n",
    "<p>\n",
    "\n",
    "```\n",
    "statft version 20160426 FTSW #081 / ft2u090j - 2018.09.12 21:27:07.620\n",
    "warning: time is not yet set, do either bootft or utimeft\n",
    "```\n",
    "</p>\n",
    "<p>\n",
    "if the output looks like this:\n",
    "</p>\n",
    "<p>\n",
    "```\n",
    "statft: FTSW#080 not found: id=ffffffff\n",
    "```\n",
    "</p>\n",
    "<p>\n",
    "then the id for the FTSW is wrong\n",
    "\n",
    "</p>\n",
    "</details>\n",
    "    "
   ]
  },
  {
   "cell_type": "markdown",
   "metadata": {},
   "source": [
    "# Initiliizing the copper readout \n",
    "After this the Scintillator readout needs to be initilized using the configuration provided in the `newScripts` folder"
   ]
  },
  {
   "cell_type": "code",
   "execution_count": null,
   "metadata": {
    "scrolled": false
   },
   "outputs": [],
   "source": [
    "SCINT_PKT_SZ = registers_DC.Run_Control.SCINT_PKT_SZ\n",
    "hslb.reghs(SCINT_PKT_SZ)\n",
    "hslb.reghs_setAndCheck(SCINT_PKT_SZ ,config.SlowControl.first_reg_value)\n",
    "hslb.reghs_setAndCheck(SCINT_PKT_SZ ,config.SlowControl.second_reg_value)\n",
    "ret = hslb.reghs_stream_file(config.SlowControl.initFile)"
   ]
  },
  {
   "cell_type": "markdown",
   "metadata": {},
   "source": [
    "This should run without any feedback. If it cannot configure the SCINT_PKT_SZ it will throw an exception. There is no way of checking if the init (dat) file was processed correctly."
   ]
  },
  {
   "cell_type": "markdown",
   "metadata": {},
   "source": [
    "## Starting a Run\n",
    "\n",
    "After the setup is configured/initilized the run can be started by first resetting the `FTSW` with the `resetft -81` command and then using the `trigft -81  pulse 1000 -1` command to start the issuing of triggers. Both from the `vme` controller"
   ]
  },
  {
   "cell_type": "code",
   "execution_count": null,
   "metadata": {},
   "outputs": [],
   "source": [
    "button=button_run_below(\"Starting a Run\")"
   ]
  },
  {
   "cell_type": "code",
   "execution_count": null,
   "metadata": {},
   "outputs": [],
   "source": [
    "print(ftsw.reset())\n",
    "time.sleep(1)"
   ]
  },
  {
   "cell_type": "markdown",
   "metadata": {},
   "source": [
    "<details><summary> `expected`</summary>\n",
    "<p>\n",
    "\n",
    "```\n",
    "trigft version 2016062700\n",
    "resetting trigger\n",
    "\n",
    "```\n",
    "\n",
    "</p>\n",
    "</details>"
   ]
  },
  {
   "cell_type": "code",
   "execution_count": null,
   "metadata": {},
   "outputs": [],
   "source": [
    "print(ftsw.trigger(rate=1000))"
   ]
  },
  {
   "cell_type": "markdown",
   "metadata": {},
   "source": [
    "<details><summary> `expected`</summary>\n",
    "<p>\n",
    "\n",
    "```\n",
    "trigft version 2016062700\n",
    "pulse trigger rate 1000.590 Hz\n",
    "exp 0 run 12 sub 0 started\n",
    "\n",
    "```\n",
    "\n",
    "</p>\n",
    "</details>"
   ]
  },
  {
   "cell_type": "code",
   "execution_count": null,
   "metadata": {},
   "outputs": [],
   "source": [
    "visualise_ROIs(hslb,roi,3)"
   ]
  },
  {
   "cell_type": "markdown",
   "metadata": {},
   "source": [
    "<details><summary> `expected`</summary>\n",
    "<p>\n",
    "```\n",
    "FIFO_FLAGS1\t FIFO_FLAGS2\t MISSED_TRG\t SCINT_TRGTAG\t EVNT_RDCNT1\t EVNT_WRCNT1\t EVNT_WDCNT\t \n",
    "\t HSL_CHANNEL_UP\t DAQ_PKTSZ1\t DAQ_PKTSZ2\t SCINT_FLAGS\t SCINT_EVTAG\t EVNT_RDCNT2\t EVNT_WRCNT2\t \n",
    "\n",
    "255\t 264\t 0\t     264\t 0\t 3\t 8704\t 0\t 51322\t 345\t 531\t 674\t 859\t 0\t \n",
    "255\t 264\t 0\t     264\t 0\t 3\t 8704\t 0\t 54003\t 995\t 163\t 276\t 467\t 0\t \n",
    "255\t 264\t 0\t     264\t 0\t 3\t 8704\t 0\t 56599\t 507\t 704\t 887\t 46\t  0\t \n",
    "```\n",
    "\n",
    "</p>\n",
    "</details>\n",
    "\n",
    "<details><summary> `error`</summary>\n",
    "<p>\n",
    "```\n",
    "FIFO_FLAGS1\t FIFO_FLAGS2\t MISSED_TRG\t SCINT_TRGTAG\t EVNT_RDCNT1\t EVNT_WRCNT1\t EVNT_WDCNT\t \n",
    "\t HSL_CHANNEL_UP\t DAQ_PKTSZ1\t     DAQ_PKTSZ2\t SCINT_FLAGS\t SCINT_EVTAG\t EVNT_RDCNT2\t EVNT_WRCNT2\t \n",
    "255\t 264\t 65535\t 264\t 65535\t 1665\t 512\t 0\t 31838\t 2\t 0\t 152\t 0\t 0\t \n",
    "255\t 264\t 65535\t 264\t 65535\t 1665\t 512\t 0\t 31838\t 2\t 0\t 152\t 0\t 0\t \n",
    "255\t 264\t 65535\t 264\t 65535\t 1665\t 512\t 0\t 31838\t 2\t 0\t 152\t 0\t 0\t \n",
    "```\n",
    "\n",
    "</p>\n",
    "</details>\n"
   ]
  },
  {
   "cell_type": "markdown",
   "metadata": {},
   "source": [
    "If the system is in the error state try to rerun the Process starting from \"Starting a Run\" command."
   ]
  }
 ],
 "metadata": {
  "kernelspec": {
   "display_name": "Python 3",
   "language": "python",
   "name": "python3"
  },
  "language_info": {
   "codemirror_mode": {
    "name": "ipython",
    "version": 3
   },
   "file_extension": ".py",
   "mimetype": "text/x-python",
   "name": "python",
   "nbconvert_exporter": "python",
   "pygments_lexer": "ipython3",
   "version": "3.6.5"
  }
 },
 "nbformat": 4,
 "nbformat_minor": 2
}
