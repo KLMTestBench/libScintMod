{
 "cells": [
  {
   "cell_type": "markdown",
   "metadata": {},
   "source": [
    "# Configuring the Slow Control on the Hawaii Test bench\n",
    "\n",
    "\n",
    "## preparing the script\n",
    "First we have to load some auxillary libraries and configurations for running the script"
   ]
  },
  {
   "cell_type": "code",
   "execution_count": 1,
   "metadata": {},
   "outputs": [],
   "source": [
    "import time\n",
    "import  config.config_hawaii as  config\n",
    "from Linux_Helpers.remoteshell2 import remoteShell2\n",
    "from Linux_Helpers.py_reghs import py_reghs\n",
    "from equipment.ScintilatorReadout import ScintilatorReadout\n",
    "import Input_checks\n",
    "import config.registers_DC as  registers_DC\n",
    "from equipment.py_hslb import  py_hslb\n"
   ]
  },
  {
   "cell_type": "markdown",
   "metadata": {},
   "source": [
    "Next we have to connect to the `vme controller` and the `copper`. "
   ]
  },
  {
   "cell_type": "code",
   "execution_count": 2,
   "metadata": {},
   "outputs": [],
   "source": [
    "vme = remoteShell2(config.vme_tunnel)"
   ]
  },
  {
   "cell_type": "code",
   "execution_count": 3,
   "metadata": {},
   "outputs": [],
   "source": [
    "cpr = remoteShell2(config.copper_tunnel)\n",
    "hslb =py_hslb(cpr,config.hslb_cpr107)"
   ]
  },
  {
   "cell_type": "markdown",
   "metadata": {},
   "source": [
    "## Checking if copper / vme are configured correctly\n",
    "\n",
    "The lines above should be executed without any complaint. "
   ]
  },
  {
   "cell_type": "code",
   "execution_count": 4,
   "metadata": {
    "scrolled": true
   },
   "outputs": [
    {
     "name": "stdout",
     "output_type": "stream",
     "text": [
      "staths version 5 (20160114)\n",
      "HSLB-b version 0.61 / KLM firmware 1 serial 0 version 4\n",
      "(b)    stat=18001002 (ff=0 rx=1 pr=0 pt=0 tx=18 masked)\n",
      "(b)    rxdata=00bc rxlinkdown=0 rxcrcerr=0 feecrcerr=0\n",
      "(b)    event=237783 total=9511kB (avg=40B last=40B max=40B)\n",
      "(b)    no b2link error\n",
      "\n"
     ]
    }
   ],
   "source": [
    "print(hslb.staths())"
   ]
  },
  {
   "cell_type": "markdown",
   "metadata": {},
   "source": [
    "the output should look something like this:\n",
    "<details><summary> `expected`</summary>\n",
    "<p>\n",
    "\n",
    "```\n",
    "staths version 5 (20160114)\n",
    "HSLB-b version 0.61 / KLM firmware 1 serial 0 version 4\n",
    "(b)    stat=18001002 (ff=0 rx=1 pr=0 pt=0 tx=18 masked)\n",
    "(b)    rxdata=00bc rxlinkdown=0 rxcrcerr=0 feecrcerr=0\n",
    "(b)    event=2153958 total=86158kB (avg=40B last=40B max=40B)\n",
    "(b)    no b2link error\n",
    "```\n",
    "\n",
    "</p>\n",
    "</details>\n",
    "\n",
    "if it looks any different boot the HSLB using:\n",
    "```\n",
    "booths -b /usr/local/firmware/hslb061_xtal.bit\n",
    "```\n"
   ]
  },
  {
   "cell_type": "code",
   "execution_count": 5,
   "metadata": {},
   "outputs": [
    {
     "name": "stdout",
     "output_type": "stream",
     "text": [
      "hslb-b done.\n",
      "\n"
     ]
    }
   ],
   "source": [
    "print(hslb.booths())"
   ]
  },
  {
   "cell_type": "markdown",
   "metadata": {},
   "source": [
    "after this make sure the `vme` controller can communicate with the `FTSW`. You can check this with the following command:\n",
    "\n",
    "```\n",
    "\n",
    "booths: cannot write /dev/copper/hslb:b: Device or resource busy\n",
    "\n",
    "```"
   ]
  },
  {
   "cell_type": "code",
   "execution_count": 6,
   "metadata": {},
   "outputs": [
    {
     "name": "stdout",
     "output_type": "stream",
     "text": [
      "statft version 20160426 FTSW #081 / ft2u090j - 2018.09.13 17:52:04.146\n",
      "warning: time is not yet set, do either bootft or utimeft\n",
      "\n"
     ]
    }
   ],
   "source": [
    "print(vme.sendAndRecieve(\"statft -\"+config.FTSW_config.ID))"
   ]
  },
  {
   "cell_type": "markdown",
   "metadata": {},
   "source": [
    "<details><summary> `expected`</summary>\n",
    "<p>\n",
    "\n",
    "\n",
    "the output should be something like this:\n",
    "\n",
    "```\n",
    "\n",
    "statft version 20160426 FTSW #081 / ft2u090j - 2018.09.12 21:27:07.620\n",
    "warning: time is not yet set, do either bootft or utimeft\n",
    "\n",
    "```\n",
    "\n",
    "if the output looks like this:\n",
    "\n",
    "```\n",
    "\n",
    "statft: FTSW#080 not found: id=ffffffff\n",
    "\n",
    "```\n",
    "\n",
    "then the id for the FTSW is wrong\n",
    "\n",
    "</p>\n",
    "</details>\n",
    "    "
   ]
  },
  {
   "cell_type": "markdown",
   "metadata": {},
   "source": [
    "# Initiliizing the copper readout \n",
    "After this the Scintillator readout needs to be initilized using the configuration provided in the `newScripts` folder"
   ]
  },
  {
   "cell_type": "code",
   "execution_count": 7,
   "metadata": {
    "scrolled": true
   },
   "outputs": [
    {
     "name": "stdout",
     "output_type": "stream",
     "text": [
      "###########################################\n",
      "Loading FEE on HSLB -b RunControl\n",
      "###########################################\n",
      "Reading: HSLB -b fee32 0x38 response :\n",
      "the value of FEE32 reg 0x38 is changed to 0xa then 0x960-check\n",
      "###########################################\n",
      "reg0038 = 00000960\n",
      "reg0038 = 0000000a\n",
      "reg0038 = 00000960\n",
      "###########################################\n",
      "Sending RCL to FEE on HSLB rcBF3.dat\n",
      "###########################################\n",
      "wait to make sure all pedestals are calculated and \n",
      "if you look at HV current, you should see a momentary dip\n",
      "Done sending RCL data to HSLB -b\n",
      "###########################################\n",
      "\n"
     ]
    }
   ],
   "source": [
    "workingDirektory=\"/home/belle2/libScintMod/newScripts/\"\n",
    "print(cpr.sendAndRecieve(\"cd \"+workingDirektory+\"&& sh initBF3.sh  rcBF3.dat\"))"
   ]
  },
  {
   "cell_type": "markdown",
   "metadata": {},
   "source": [
    "<details><summary> `expected`</summary>\n",
    "<p>\n",
    "\n",
    "```\n",
    "###########################################\n",
    "Loading FEE on HSLB -b RunControl\n",
    "###########################################\n",
    "Reading: HSLB -b fee32 0x38 response :\n",
    "the value of FEE32 reg 0x38 is changed to 0xa then 0x960-check\n",
    "###########################################\n",
    "reg0038 = 00000960\n",
    "reg0038 = 0000000a\n",
    "reg0038 = 00000960\n",
    "###########################################\n",
    "Sending RCL to FEE on HSLB rcBF3.dat\n",
    "###########################################\n",
    "wait to make sure all pedestals are calculated and \n",
    "if you look at HV current, you should see a momentary dip\n",
    "Done sending RCL data to HSLB -b\n",
    "###########################################\n",
    "```\n",
    "\n",
    "</p>\n",
    "</details>"
   ]
  },
  {
   "cell_type": "markdown",
   "metadata": {},
   "source": [
    "## Starting a Run\n",
    "\n",
    "After the setup is configured/initilized the run can be started by first resetting the `FTSW` with the `resetft -81` command and then using the `trigft -81  pulse 1000 -1` command to start the issuing of triggers. Both from the `vme` controller"
   ]
  },
  {
   "cell_type": "code",
   "execution_count": 8,
   "metadata": {},
   "outputs": [
    {
     "name": "stdout",
     "output_type": "stream",
     "text": [
      "trigft version 2016062700\n",
      "resetting trigger\n",
      "\n"
     ]
    }
   ],
   "source": [
    "print(vme.sendAndRecieve('resetft -'+config.FTSW_config.ID))\n",
    "time.sleep(1)"
   ]
  },
  {
   "cell_type": "markdown",
   "metadata": {},
   "source": [
    "<details><summary> `expected`</summary>\n",
    "<p>\n",
    "\n",
    "```\n",
    "trigft version 2016062700\n",
    "resetting trigger\n",
    "\n",
    "```\n",
    "\n",
    "</p>\n",
    "</details>"
   ]
  },
  {
   "cell_type": "code",
   "execution_count": 9,
   "metadata": {},
   "outputs": [
    {
     "name": "stdout",
     "output_type": "stream",
     "text": [
      "trigft version 2016062700\n",
      "pulse trigger rate 1000.590 Hz\n",
      "exp 0 run 7 sub 0 started\n",
      "\n"
     ]
    }
   ],
   "source": [
    "print(vme.sendAndRecieve('trigft -'+config.FTSW_config.ID+ '  pulse 1000 -1'))"
   ]
  },
  {
   "cell_type": "markdown",
   "metadata": {},
   "source": [
    "<details><summary> `expected`</summary>\n",
    "<p>\n",
    "\n",
    "```\n",
    "trigft version 2016062700\n",
    "pulse trigger rate 1000.590 Hz\n",
    "exp 0 run 12 sub 0 started\n",
    "\n",
    "```\n",
    "\n",
    "</p>\n",
    "</details>"
   ]
  },
  {
   "cell_type": "code",
   "execution_count": 10,
   "metadata": {},
   "outputs": [
    {
     "name": "stdout",
     "output_type": "stream",
     "text": [
      "HSL_CHANNEL_UP : Aurora channel up, bit per link\n",
      "reg0614 = 000000ff\n",
      "FIFO_FLAGS1 : Trigger/DAQ FIFO flags and errors\n",
      "reg0630 = 00000108\n",
      "DAQ_PKTSZ1 : DAQ packet size\n",
      "reg0632 = 00000000\n",
      "FIFO_FLAGS2 : Trigger/DAQ FIFO flags and errors\n",
      "reg0634 = 00000108\n",
      "DAQ_PKTSZ2 : DAQ packet size\n",
      "reg0636 = 00000000\n",
      "MISSED_TRG : Missed trigger and event flags\n",
      "reg06a0 = 00000003\n",
      "SCINT_FLAGS : Scint. event builder FIFO flags\n",
      "reg06a2 = 00002200\n",
      "SCINT_TRGTAG : Current scint. trigger tag\n",
      "reg06a4 = 00000000\n",
      "SCINT_EVTAG : Buffered scint trigger tag\n",
      "reg06a8 = 00005d43\n",
      "EVNT_RDCNT1\tEvent buffer 1 read count.\n",
      "reg06a9 = 000000ea\n",
      "EVNT_RDCNT2\tEvent buffer 2 read count.\n",
      "reg06aa = 000000ef\n",
      "EVNT_WRCNT1\tEvent buffer 1 write count.\n",
      "reg06ab = 000000f3\n",
      "EVNT_WRCNT2\tEvent buffer 2 write count.\n",
      "reg06ac = 000000f9\n",
      "EVNT_WDCNT\tNumber of words in event.\n",
      "reg06ad = 00000000\n",
      "\n"
     ]
    }
   ],
   "source": [
    "workingDirektory=\"/home/belle2/libScintMod/\"\n",
    "print(cpr.sendAndRecieve(\"source \"+ workingDirektory +\"/pollDcRegs.sh\"))"
   ]
  },
  {
   "cell_type": "code",
   "execution_count": 11,
   "metadata": {},
   "outputs": [
    {
     "name": "stdout",
     "output_type": "stream",
     "text": [
      "/usr/local/bin/reghs -b fee32 0x6a9\n",
      "reg06a9 = 000001b1\n",
      "\n"
     ]
    },
    {
     "data": {
      "text/plain": [
       "433"
      ]
     },
     "execution_count": 11,
     "metadata": {},
     "output_type": "execute_result"
    }
   ],
   "source": [
    "hslb.reghs(0x6a9)"
   ]
  }
 ],
 "metadata": {
  "kernelspec": {
   "display_name": "Python 3",
   "language": "python",
   "name": "python3"
  },
  "language_info": {
   "codemirror_mode": {
    "name": "ipython",
    "version": 3
   },
   "file_extension": ".py",
   "mimetype": "text/x-python",
   "name": "python",
   "nbconvert_exporter": "python",
   "pygments_lexer": "ipython3",
   "version": "3.6.5"
  }
 },
 "nbformat": 4,
 "nbformat_minor": 2
}
