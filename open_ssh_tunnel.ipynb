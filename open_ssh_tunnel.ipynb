{
 "cells": [
  {
   "cell_type": "code",
   "execution_count": 13,
   "metadata": {},
   "outputs": [],
   "source": [
    "from paramiko import SSHClient\n",
    "from scp import SCPClient"
   ]
  },
  {
   "cell_type": "code",
   "execution_count": 2,
   "metadata": {},
   "outputs": [],
   "source": [
    "from Linux_Helpers.ssh_host import shell_factory\n",
    "from config.load_known_hosts import load_known_hosts"
   ]
  },
  {
   "cell_type": "code",
   "execution_count": 3,
   "metadata": {},
   "outputs": [],
   "source": [
    "file_name=\"config/known_host.xlsx\"\n",
    "KLM_Conf = \"BFR_a_Not_working\"\n",
    "\n",
    "Known_hosts = load_known_hosts(file_name)\n",
    "Sh_Factory = shell_factory(Known_hosts)"
   ]
  },
  {
   "cell_type": "code",
   "execution_count": 4,
   "metadata": {},
   "outputs": [],
   "source": [
    "sh= Sh_Factory.get_shell(host='cpr7001')"
   ]
  },
  {
   "cell_type": "code",
   "execution_count": 5,
   "metadata": {},
   "outputs": [],
   "source": [
    "sh.copyTo('test.txt','t3.txt')"
   ]
  },
  {
   "cell_type": "code",
   "execution_count": 23,
   "metadata": {},
   "outputs": [
    {
     "name": "stdout",
     "output_type": "stream",
     "text": [
      "#klm.conf#\n",
      "%backup%~\n",
      "20150512.0507.dat\n",
      "Belle2FileCatalog.xml\n",
      "KEKFW\n",
      "Output.sroot\n",
      "RootOutput.root\n",
      "SOCK_KLM01_klm01.txt\n",
      "basf2\n",
      "basf2_local\n",
      "batchTesths\n",
      "bin\n",
      "bklmEffi.root\n",
      "daq_slc\n",
      "daq_slc-sl5\n",
      "daq_slc-sl6\n",
      "daq_slc.copper\n",
      "diagnos_output.root\n",
      "eb\n",
      "epics\n",
      "externals\n",
      "fefw4\n",
      "git\n",
      "hits_occupancy_2018_allB.pdf\n",
      "hits_sum_root_output.root\n",
      "hsprogs\n",
      "hsprogs_tst\n",
      "klm.conf\n",
      "klm.conf~\n",
      "klmslscan\n",
      "log\n",
      "log180215-15:45\n",
      "log180216-09:00\n",
      "nsmd2.1970\n",
      "o.txt\n",
      "rcl_rev2_10.zip\n",
      "release.170206\n",
      "release.tar.gz\n",
      "run\n",
      "run_ctrl7_OCT3.dat\n",
      "scripts\n",
      "setup.sh\n",
      "src\n",
      "t3.txt\n",
      "temp\n",
      "temp.conf\n",
      "temp.conf~\n",
      "temp2.conf\n",
      "test2.txt\n",
      "tmp\n",
      "tmp3.sroot\n",
      "trg_scan_setgain.txt\n",
      "trg_scan_setgain_dbg.txt\n",
      "tst\n",
      "tst2\n",
      "update.sh\n",
      "\n"
     ]
    }
   ],
   "source": [
    "print(sh.sendAndRecieve('ls'))"
   ]
  },
  {
   "cell_type": "code",
   "execution_count": 7,
   "metadata": {},
   "outputs": [],
   "source": [
    "scp = SCPClient(sh.client.get_transport())"
   ]
  },
  {
   "cell_type": "code",
   "execution_count": 8,
   "metadata": {},
   "outputs": [],
   "source": [
    "scp.put('test.txt', 'test2.txt')"
   ]
  },
  {
   "cell_type": "code",
   "execution_count": 9,
   "metadata": {},
   "outputs": [],
   "source": [
    "scp.get('test2.txt','test3.txt')"
   ]
  }
 ],
 "metadata": {
  "kernelspec": {
   "display_name": "Python 3",
   "language": "python",
   "name": "python3"
  },
  "language_info": {
   "codemirror_mode": {
    "name": "ipython",
    "version": 3
   },
   "file_extension": ".py",
   "mimetype": "text/x-python",
   "name": "python",
   "nbconvert_exporter": "python",
   "pygments_lexer": "ipython3",
   "version": "3.6.5"
  },
  "toc": {
   "base_numbering": 1,
   "nav_menu": {},
   "number_sections": true,
   "sideBar": true,
   "skip_h1_title": false,
   "title_cell": "Table of Contents",
   "title_sidebar": "Contents",
   "toc_cell": false,
   "toc_position": {},
   "toc_section_display": true,
   "toc_window_display": false
  },
  "varInspector": {
   "cols": {
    "lenName": 16,
    "lenType": 16,
    "lenVar": 40
   },
   "kernels_config": {
    "python": {
     "delete_cmd_postfix": "",
     "delete_cmd_prefix": "del ",
     "library": "var_list.py",
     "varRefreshCmd": "print(var_dic_list())"
    },
    "r": {
     "delete_cmd_postfix": ") ",
     "delete_cmd_prefix": "rm(",
     "library": "var_list.r",
     "varRefreshCmd": "cat(var_dic_list()) "
    }
   },
   "types_to_exclude": [
    "module",
    "function",
    "builtin_function_or_method",
    "instance",
    "_Feature"
   ],
   "window_display": false
  }
 },
 "nbformat": 4,
 "nbformat_minor": 2
}
