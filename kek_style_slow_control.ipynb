{
 "cells": [
  {
   "cell_type": "markdown",
   "metadata": {},
   "source": [
    "#  BKLM Data Taking - Short Guide\n",
    "\n",
    "you can find the original Page over [here](https://confluence.desy.de/display/BI/BKLM+Data+Taking+-+Short+Guide).\n",
    "\n",
    "\n",
    "![VNC Setup](img/kek_vnc.png)\n",
    "\n",
    "\n",
    "For the time beeing the Controlling of the HV is ignored. \n",
    "\n",
    "The setup uses the following Computers/shells.\n",
    "\n",
    "|Shell |      Computer  |  Use |\n",
    "|----------|-----------|------|\n",
    "|KLM01_A   | klm01       | Start/Kill run |\n",
    "|KLM01_B   | klm01       |   Auxiliary terminal to debug COPPERs |\n",
    "|ttd11_A   | ttd11       |    Program FEEs; Include / mask sectors; Start reset triggers  |\n",
    "|IDLAB_A   | idlab       | configure BF2   |\n",
    "|ttd11_B   | ttd11       | Local run status |\n",
    "|ttd11_C   | ttd11       | Global run status| \n",
    "|KLM01_C   | klm01       | Check COPPERS status|\n",
    "|KLM01_D   | klm01       | Launch SLC     | \n",
    "\n",
    "\n"
   ]
  },
  {
   "cell_type": "code",
   "execution_count": null,
   "metadata": {},
   "outputs": [],
   "source": [
    "import  config.config_kek as  config\n",
    "from Linux_Helpers.remoteshell2 import remoteShell2\n",
    "from Linux_Helpers.remoteshell3 import remoteShell3\n",
    "\n",
    "#from equipment.ScintilatorReadout import ScintilatorReadout\n",
    "from equipment.py_ftsw import py_ftsw\n",
    "from script.prog_fee import prog_fee\n",
    "from script.prepft import prepft\n",
    "import time"
   ]
  },
  {
   "cell_type": "code",
   "execution_count": null,
   "metadata": {},
   "outputs": [],
   "source": [
    "from config.load_known_hosts import load_known_hosts\n",
    "from Linux_Helpers.ssh_host import shell_factory\n"
   ]
  },
  {
   "cell_type": "code",
   "execution_count": null,
   "metadata": {},
   "outputs": [],
   "source": [
    "from config.RCL_Load_Config import RCL_Load_Config\n"
   ]
  },
  {
   "cell_type": "code",
   "execution_count": null,
   "metadata": {},
   "outputs": [],
   "source": [
    "from config.ftsw_load_config import ftsw_load_config\n",
    "from equipment.py_ftsw import create_ftsw\n"
   ]
  },
  {
   "cell_type": "code",
   "execution_count": null,
   "metadata": {},
   "outputs": [],
   "source": [
    "from __future__ import print_function\n",
    "from ipywidgets import interact, interactive, fixed, interact_manual\n",
    "\n",
    "from ipywidgets import widgets\n",
    "import ipython_blocking\n",
    "ipython_blocking.load_ipython_extensions()\n",
    "\n",
    "from IPython.display import clear_output\n",
    "\n",
    "\n"
   ]
  },
  {
   "cell_type": "markdown",
   "metadata": {},
   "source": [
    "## Setting up the envirement\n",
    "\n",
    "Since we want to use remote terminals, we have to set them up. Since this notebook is not (yet) connected to the KEK setup all the shells are just dummies and most likley they will produce some errors."
   ]
  },
  {
   "cell_type": "code",
   "execution_count": null,
   "metadata": {},
   "outputs": [],
   "source": [
    "file_name=\"config/known_host.xlsx\"\n",
    "KLM_Conf = \"BFR_a_Not_working\"\n",
    "\n",
    "Known_hosts = load_known_hosts(file_name)\n",
    "Sh_Factory = shell_factory(Known_hosts)\n",
    "ftsw_conf = ftsw_load_config(file_name,KLM_Conf)\n",
    "\n",
    "\n",
    "ftsw = create_ftsw(Sh_Factory ,ftsw_conf )\n",
    "\n",
    "KLM01_A = remoteShell3(config.klm01)\n",
    "#KLM01_B = remoteShell(config.klm01)\n",
    "IDLAB_A = remoteShell3(config.idlab)\n",
    "#IDLAB_A.sendAndRecieve(\"ssh idlab@172.22.18.20\")\n",
    "#print(IDLAB_A.sendAndRecieve(\"source bashrc-ise.sh\"))\n",
    "#ttd11_B = remoteShell(config.ttd11)\n",
    "#ttd11_C = remoteShell(config.ttd11)\n",
    "#KLM01_C = remoteShell(config.klm01)\n",
    "#KLM01_D = remoteShell(config.klm01)\n",
    "\n",
    "\n"
   ]
  },
  {
   "cell_type": "code",
   "execution_count": null,
   "metadata": {},
   "outputs": [],
   "source": [
    "IDLAB_A = remoteShell3(config.idlab)"
   ]
  },
  {
   "cell_type": "code",
   "execution_count": null,
   "metadata": {},
   "outputs": [],
   "source": [
    "def f(DebugPrint):\n",
    "    ftsw.debug(DebugPrint)\n",
    "    \n",
    "x=interact(f,DebugPrint=False)"
   ]
  },
  {
   "cell_type": "code",
   "execution_count": null,
   "metadata": {},
   "outputs": [],
   "source": [
    "# don't go beyond here with Run All\n",
    "assert False"
   ]
  },
  {
   "cell_type": "markdown",
   "metadata": {},
   "source": [
    "Once the Notebook is connected to KEK, \n",
    "all of these commands should run without error.\n",
    "If the command `remoteShell2` produces and error make sure the SSH_Tunnel is setup correctly and to PocketDAQ / Copper is running"
   ]
  },
  {
   "cell_type": "markdown",
   "metadata": {},
   "source": [
    "# Preliminary steps"
   ]
  },
  {
   "cell_type": "markdown",
   "metadata": {},
   "source": [
    "\n",
    "## Program the FEEs\n",
    "\n",
    "- Where? `ttd11_A` (bottom-left terminal, left tab)\n",
    "- How? launch the following commands:\n",
    "```\n",
    "./progfee.sh\n",
    "./progfee_BB.sh\n",
    "```\n"
   ]
  },
  {
   "cell_type": "code",
   "execution_count": null,
   "metadata": {},
   "outputs": [],
   "source": [
    "from config.Dev_details_load import Dev_details_load\n",
    "BB = Dev_details_load(file_name,KLM_Conf,'BB')\n",
    "BF = Dev_details_load(file_name,KLM_Conf,'BB')"
   ]
  },
  {
   "cell_type": "code",
   "execution_count": null,
   "metadata": {},
   "outputs": [],
   "source": [
    "BB."
   ]
  },
  {
   "cell_type": "code",
   "execution_count": null,
   "metadata": {},
   "outputs": [],
   "source": [
    "print(prog_fee(ftsw,BB))"
   ]
  },
  {
   "cell_type": "code",
   "execution_count": null,
   "metadata": {},
   "outputs": [],
   "source": [
    "print(prog_fee(ftsw,BF))"
   ]
  },
  {
   "cell_type": "markdown",
   "metadata": {},
   "source": [
    "possible errors \n",
    "\n",
    "```\n",
    "too many devices found in the jtag chain (probably noise).\n",
    "```\n"
   ]
  },
  {
   "cell_type": "markdown",
   "metadata": {},
   "source": [
    "- Check: the last messages shown in the terminal are:\n",
    "\n",
    "   `ALL KLM FEE PROG DONE!` \n",
    "   \n",
    "   and \n",
    "   \n",
    "   `ALL KLM BB FEE PROG DONE!` \n",
    "   \n",
    "   In the meanwhile, the bottom-center terminal, left tab (`ttd11_B`) should be in an ERROR  state and become purple: it's fine.\n",
    "   \n",
    "In a future modification to this Notebook the status of `ttd11_B` should actually be checked.\n"
   ]
  },
  {
   "cell_type": "markdown",
   "metadata": {},
   "source": [
    "## Program the BF2 sector\n",
    "\n",
    "(Note added on 2018-05-01: BF2 is currently masked, so the commands this section can be skipped- Now BB2 is acting as BF2 for debug interface, but script names are the same for ease of use)\n",
    "\n",
    "\n",
    "- Where? `IDLAB_A` (bottom-left terminal, right tab)\n",
    "- How? launch the following commands:\n",
    "\n",
    "```\n",
    "  impact -batch imp_prog_BF2scrods.cmd\n",
    "  impact -batch imp_prog_BF2dc.cmd\n",
    "```\n",
    "\n",
    "\n"
   ]
  },
  {
   "cell_type": "code",
   "execution_count": null,
   "metadata": {},
   "outputs": [],
   "source": [
    "dummy = IDLAB_A.sendAndRecieve('echo \"test\"') #clean the buffer\n",
    "\n",
    "print(IDLAB_A.sendAndRecieve(\"impact -batch imp_prog_BF2scrods.cmd\"))\n"
   ]
  },
  {
   "cell_type": "code",
   "execution_count": null,
   "metadata": {},
   "outputs": [],
   "source": [
    "print(IDLAB_A.sendAndRecieve(\"impact -batch imp_prog_BF2dc.cmd\"))"
   ]
  },
  {
   "cell_type": "markdown",
   "metadata": {},
   "source": [
    "- Check: one of the last message shown in the terminal is:\n",
    "\n",
    "```\n",
    "INFO:iMPACT - '1': Checking done pin....done.   / /   '1': Programmed successfully.   / /   Elapsed time =  X sec.\n",
    "```\n",
    "\n",
    "\n",
    "  Ignore further error messages!  \n",
    "  \n",
    "  \n",
    "  ```\n",
    "  INFO:iMPACT - '1': Checking done pin....done.\n",
    "'1': Programmed successfully.\n",
    "Elapsed time =     10 sec.\n",
    "ERROR:iMPACT - SSerial mode is no longer supported by impact software , please\n",
    "   use 11.4 or older version of software.\n",
    "```\n",
    "\n"
   ]
  },
  {
   "cell_type": "markdown",
   "metadata": {},
   "source": [
    "## Prepare ttd11\n",
    "- Where? `ttd11_A` (bottom-left terminal, left tab)\n",
    "- How? launch the following commands:\n",
    "```        \n",
    "  resetft -191\n",
    "```\n",
    "  With EKLM: \n",
    "```  \n",
    "cd withEKLM; ./prepft_butBF2_withEKLM.sh\n",
    "```\n",
    "\n",
    "   Without EKLM: \n",
    "```\n",
    "./prepft_butBF2.sh\n",
    "```\n",
    "\n",
    "\n"
   ]
  },
  {
   "cell_type": "code",
   "execution_count": null,
   "metadata": {},
   "outputs": [],
   "source": [
    "useEKLM = False\n",
    "if useEKLM:\n",
    "    print(prepft(ftsw,config.klm_prepft_with_EKLM))\n",
    "else:\n",
    "    print(prepft(ftsw,BB))\n"
   ]
  },
  {
   "cell_type": "markdown",
   "metadata": {},
   "source": [
    "with EKLM not yet tested\n",
    "\n",
    "```python\n",
    "useEKLM = False\n",
    "if useEKLM:\n",
    "    print(ttd11_A.sendAndRecieve(\"cd withEKLM; ./prepft_butBF2_withEKLM.sh\"))\n",
    "else:\n",
    "    print(ttd11_A.sendAndRecieve(\"./prepft_butBF2.sh\"))\n",
    "```\n",
    "\n"
   ]
  },
  {
   "cell_type": "markdown",
   "metadata": {},
   "source": [
    "- Check: \n",
    "  \n",
    "  the last message shown in the terminal is:\n",
    "```\n",
    "resetting trigger\n",
    "```"
   ]
  },
  {
   "cell_type": "markdown",
   "metadata": {},
   "source": [
    "## Clear \"b2linkdown\" after reprograming\n",
    "\n",
    "Usually you will see `b2linkdown` after reprograming, `b2linkdown` shown in the the bottom-center terminal. Run the following:\n",
    "\n",
    "\n",
    "- At `KLM01_B` run:\n",
    "```\n",
    "~/run/scripts/batchTesths  \n",
    "```\n",
    "\n",
    "  `batchTesths` does \"tesths -abcd\" for all four coppers)\n",
    "\n",
    "\n",
    "- At `ttd11_A` run:\n",
    "```\n",
    "./prepft_butBF2.sh\n",
    "```"
   ]
  },
  {
   "cell_type": "code",
   "execution_count": null,
   "metadata": {},
   "outputs": [],
   "source": [
    "print(Sh_Factory.run_on('cpr7001',\"tesths -abcd\"))"
   ]
  },
  {
   "cell_type": "code",
   "execution_count": null,
   "metadata": {},
   "outputs": [],
   "source": [
    "print(Sh_Factory.run_on('cpr7002',\"tesths -abcd\"))"
   ]
  },
  {
   "cell_type": "code",
   "execution_count": null,
   "metadata": {},
   "outputs": [],
   "source": [
    "print(Sh_Factory.run_on('cpr7003',\"tesths -abcd\"))"
   ]
  },
  {
   "cell_type": "code",
   "execution_count": null,
   "metadata": {},
   "outputs": [],
   "source": [
    "print(Sh_Factory.run_on('cpr7004',\"tesths -abcd\"))"
   ]
  },
  {
   "cell_type": "code",
   "execution_count": null,
   "metadata": {},
   "outputs": [],
   "source": [
    "print(prepft(ftsw,config.klm_prepft))"
   ]
  },
  {
   "cell_type": "code",
   "execution_count": null,
   "metadata": {},
   "outputs": [],
   "source": [
    "print(ftsw.status())"
   ]
  },
  {
   "cell_type": "markdown",
   "metadata": {},
   "source": [
    "then you should able to see `b2linkdown` was cleared, and `FTSW` in yellow READY state."
   ]
  },
  {
   "cell_type": "markdown",
   "metadata": {},
   "source": [
    "# Launch the Slow Control\n",
    "\n",
    "- Where? `KLM01_D` (bottom-right terminal, right tab)\n",
    "- How? launch the following commands:\n",
    "\n",
    "\n",
    "```\n",
    "    ~/run/scripts/load_brcl.sh rcl_rev2_40_th-100  \n",
    "```\n",
    "\n",
    "    \n",
    "    (NOTE: Every time you send this command, you need to resend the following commands)\n",
    "\n",
    "    NOTE: kill all that `watch` commands which are reading status of registers to avoid any conflict when you issue the load_brcl.sh. Kill the \n",
    "  \n",
    "  ```\n",
    "    watch ./checkpcr \n",
    "```\n",
    "  \n",
    "    and \n",
    "  \n",
    "  ```\n",
    "    watch ./dcregs.sh\n",
    "```\n",
    "\n",
    "    Don't keep `watch ./dcregs.sh` running! Unless after reprograming you want to check the status, you run\n",
    "\n",
    "```\n",
    "    watch ./dcreg.sh\n",
    "```\n",
    "\n",
    "    then kill it right away otherwise you will forget later.  "
   ]
  },
  {
   "cell_type": "code",
   "execution_count": null,
   "metadata": {},
   "outputs": [],
   "source": [
    "from script.load_brcl import load_brcl\n",
    "from script.load_klm_calset import load_klm_calset\n",
    "RCL = RCL_Load_Config(file_name,KLM_Conf)"
   ]
  },
  {
   "cell_type": "code",
   "execution_count": null,
   "metadata": {},
   "outputs": [],
   "source": [
    "load_brcl(shell_factory=Sh_Factory,RCL=RCL,Parallel=True)"
   ]
  },
  {
   "cell_type": "markdown",
   "metadata": {},
   "source": [
    "- Check: the last message shown in the terminal is:\n",
    "\n",
    "`window fine stop   / /   reg0033 = XXXXXXXX`\n",
    "\n",
    "`Successfull configured ...`\n"
   ]
  },
  {
   "cell_type": "markdown",
   "metadata": {},
   "source": [
    "- Then run this command to send MPPC gain settings to Layer 1 on Barrel - wait for all windows to finish completely before launching next one\n",
    "```\n",
    "cd ~/run/scripts\n",
    "./load_klm_calset_L1.sh calset_171118_031700 200\n",
    "```"
   ]
  },
  {
   "cell_type": "code",
   "execution_count": null,
   "metadata": {},
   "outputs": [],
   "source": [
    "load_klm_calset(Sh_Factory,RCL,True)"
   ]
  },
  {
   "cell_type": "markdown",
   "metadata": {},
   "source": [
    "- Wait for command to finish (it opens 16 concurrent terminals, so need to have X tunneling)"
   ]
  },
  {
   "cell_type": "markdown",
   "metadata": {},
   "source": [
    "- after this run the following command:\n",
    "\n",
    "    `./load_klm_calset_L2.sh calset_171118_060700 200`"
   ]
  },
  {
   "cell_type": "markdown",
   "metadata": {},
   "source": [
    "- wait for previous command to completely finish, then set lookback and width for scintilaltor "
   ]
  },
  {
   "cell_type": "markdown",
   "metadata": {},
   "source": [
    "- make sure you do not use any other scint. lookback commands after this:\n",
    "- `./set_addl.sh` (this command is very quiet) (if you see \"Device or resource busy\" message, just run this command again.)\n"
   ]
  },
  {
   "cell_type": "code",
   "execution_count": null,
   "metadata": {},
   "outputs": [],
   "source": [
    "print(Sh_Factory.run_on('klm01',\"cd ~/run/scripts; ./set_addl.sh\"))"
   ]
  },
  {
   "cell_type": "markdown",
   "metadata": {},
   "source": [
    "## Reset the trigger\n",
    "- Where? `ttd11_A` (bottom-left terminal, left tab)\n",
    "- How? launch the following command:\n",
    "\n",
    "```\n",
    "resetft -191\n",
    "```\n"
   ]
  },
  {
   "cell_type": "code",
   "execution_count": null,
   "metadata": {},
   "outputs": [],
   "source": [
    "ftsw.reset()"
   ]
  },
  {
   "cell_type": "markdown",
   "metadata": {},
   "source": [
    "- Check: the bottom-center terminal, left tab `ttd11_B` should pass in a READY state and become yellow "
   ]
  },
  {
   "cell_type": "markdown",
   "metadata": {},
   "source": [
    "# Finished \"Preliminary steps\"\n",
    "With this the Setup is Ready for Data taking"
   ]
  }
 ],
 "metadata": {
  "kernelspec": {
   "display_name": "Python 3",
   "language": "python",
   "name": "python3"
  },
  "language_info": {
   "codemirror_mode": {
    "name": "ipython",
    "version": 3
   },
   "file_extension": ".py",
   "mimetype": "text/x-python",
   "name": "python",
   "nbconvert_exporter": "python",
   "pygments_lexer": "ipython3",
   "version": "3.6.5"
  }
 },
 "nbformat": 4,
 "nbformat_minor": 2
}
