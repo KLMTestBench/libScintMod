{
 "cells": [
  {
   "cell_type": "markdown",
   "metadata": {},
   "source": [
    "#  BKLM Data Taking - Short Guide\n",
    "\n",
    "you can find the original Page over [here](https://confluence.desy.de/display/BI/BKLM+Data+Taking+-+Short+Guide).\n",
    "\n",
    "\n",
    "![VNC Setup](img/kek_vnc.png)\n",
    "\n",
    "\n",
    "For the time beeing the Controlling of the HV is ignored. \n",
    "\n",
    "The setup uses the following Computers/shells.\n",
    "\n",
    "|Shell |      Computer  |  Use |\n",
    "|----------|-----------|------|\n",
    "|KLM01_A   | klm01       | Start/Kill run |\n",
    "|KLM01_B   | klm01       |   Auxiliary terminal to debug COPPERs |\n",
    "|ttd11_A   | ttd11       |    Program FEEs; Include / mask sectors; Start reset triggers  |\n",
    "|IDLAB_A   | idlab       | configure BF2   |\n",
    "|ttd11_B   | ttd11       | Local run status |\n",
    "|ttd11_C   | ttd11       | Global run status| \n",
    "|KLM01_C   | klm01       | Check COPPERS status|\n",
    "|KLM01_D   | klm01       | Launch SLC     | \n",
    "\n",
    "\n"
   ]
  },
  {
   "cell_type": "code",
   "execution_count": 1,
   "metadata": {},
   "outputs": [],
   "source": [
    "import  config.config_kek as  config\n",
    "from Linux_Helpers.remoteshell2 import remoteShell2\n",
    "from Linux_Helpers.remoteshell3 import remoteShell3\n",
    "\n",
    "#from equipment.ScintilatorReadout import ScintilatorReadout\n",
    "from equipment.py_ftsw import py_ftsw\n",
    "from script.prog_fee import prog_fee\n",
    "from script.prepft import prepft\n",
    "import time"
   ]
  },
  {
   "cell_type": "code",
   "execution_count": 2,
   "metadata": {},
   "outputs": [],
   "source": [
    "from config.load_known_hosts import load_known_hosts\n",
    "from Linux_Helpers.ssh_host import shell_factory\n"
   ]
  },
  {
   "cell_type": "code",
   "execution_count": 3,
   "metadata": {},
   "outputs": [],
   "source": [
    "from config.RCL_Load_Config import RCL_Load_Config\n"
   ]
  },
  {
   "cell_type": "code",
   "execution_count": 4,
   "metadata": {},
   "outputs": [],
   "source": [
    "from config.ftsw_load_config import ftsw_load_config\n",
    "from equipment.py_ftsw import create_ftsw\n"
   ]
  },
  {
   "cell_type": "code",
   "execution_count": 5,
   "metadata": {},
   "outputs": [],
   "source": [
    "from __future__ import print_function\n",
    "from ipywidgets import interact, interactive, fixed, interact_manual\n",
    "\n",
    "from ipywidgets import widgets\n",
    "import ipython_blocking\n",
    "ipython_blocking.load_ipython_extensions()\n",
    "\n",
    "from IPython.display import clear_output\n",
    "\n",
    "\n"
   ]
  },
  {
   "cell_type": "markdown",
   "metadata": {},
   "source": [
    "## Setting up the envirement\n",
    "\n",
    "Since we want to use remote terminals, we have to set them up. Since this notebook is not (yet) connected to the KEK setup all the shells are just dummies and most likley they will produce some errors."
   ]
  },
  {
   "cell_type": "code",
   "execution_count": 36,
   "metadata": {},
   "outputs": [],
   "source": [
    "file_name=\"config/known_host_KEK.xlsx\"\n",
    "KLM_Conf = \"BFR_a_Not_working\"\n",
    "\n",
    "Known_hosts = load_known_hosts(file_name)\n",
    "Sh_Factory = shell_factory(Known_hosts)\n",
    "ftsw_conf = ftsw_load_config(file_name,KLM_Conf)"
   ]
  },
  {
   "cell_type": "code",
   "execution_count": 37,
   "metadata": {},
   "outputs": [],
   "source": [
    "ftsw = create_ftsw(Sh_Factory ,ftsw_conf )\n",
    "\n",
    "KLM01_A = Sh_Factory.get_shell('klm01')\n",
    "\n",
    "\n",
    "class klm01:\n",
    "    HostName = \"127.0.0.1\"\n",
    "    UserName = \"b2klm\"\n",
    "    IdentityFile = \"config/b2klm\"\n",
    "    Port = 10040\n",
    "    startCommand = \"\"\n",
    "    endstring = \"b2klm.klm@klm01\"\n",
    "    \n",
    "    \n",
    "    \n",
    "KLM01_B = remoteShell3(host=klm01)\n",
    "\n",
    "IDLAB_A = Sh_Factory.get_shell('idlab')\n"
   ]
  },
  {
   "cell_type": "code",
   "execution_count": 38,
   "metadata": {},
   "outputs": [
    {
     "name": "stdout",
     "output_type": "stream",
     "text": [
      "b2klm.klm@klm01(126)% \r",
      "\r\n",
      "b2klm.klm@klm01(126)% ls\r",
      "\r\n",
      "20150512.0507.dat             KEKFW/               run/\r\n",
      "%backup%~*                    klm02.conf           run_ctrl7_OCT3.dat\r\n",
      "basf2@                        klm02_weKLM.conf     scripts/\r\n",
      "basf2_local/                  klm02_weKLM.conf~    setup.sh*\r\n",
      "batchTesths*                  klm03.conf           SOCK_KLM01_klm01.txt\r\n",
      "Belle2FileCatalog.xml         #klm.conf#           src/\r\n",
      "bin/                          klm.conf             t3.txt\r\n",
      "bklmEffi.root                 klm.conf~            temp/\r\n",
      "daq_slc@                      klmslscan/           temp1.conf\r\n",
      "daq_slc.copper@               log/                 temp2.conf\r\n",
      "daq_slc-sl5/                  log180215-15:45      temp.conf\r\n",
      "daq_slc-sl6/                  log180216-09:00      temp.conf~\r\n",
      "diagnos_output.root           nsmd2.1970\u001b[0m*          test2.txt\r\n",
      "eb/                           o.txt                tmp/\r\n",
      "epics/                        Output.sroot         tmp3.sroot\r\n",
      "externals/                    rcl_rev2_10.zip*     trg_scan_setgain_dbg.txt\r\n",
      "fefw4/                        release.170206/      trg_scan_setgain.txt\r\n",
      "git/                          release.tar.gz       tst\r\n",
      "hits_occupancy_2018_allB.pdf  RootOutput.root      tst2\r\n",
      "hits_sum_root_output.root     ropc702.conf         update.sh*\r\n",
      "hsprogs/                      ropc702_weKLM.conf\r\n",
      "hsprogs_tst/                  ropc702_weKLM.conf~\r\n",
      "b2klm.klm@klm01(127)% \n"
     ]
    }
   ],
   "source": [
    "print(KLM01_B.sendAndRecieveRaw('ls',removePromt=False))"
   ]
  },
  {
   "cell_type": "code",
   "execution_count": null,
   "metadata": {},
   "outputs": [],
   "source": [
    "def f(DebugPrint):\n",
    "    ftsw.debug(DebugPrint)\n",
    "    \n",
    "x=interact(f,DebugPrint=False)"
   ]
  },
  {
   "cell_type": "code",
   "execution_count": null,
   "metadata": {},
   "outputs": [],
   "source": [
    "# don't go beyond here with Run All\n",
    "assert False"
   ]
  },
  {
   "cell_type": "markdown",
   "metadata": {},
   "source": [
    "Once the Notebook is connected to KEK, \n",
    "all of these commands should run without error.\n",
    "If the command `remoteShell2` produces and error make sure the SSH_Tunnel is setup correctly and to PocketDAQ / Copper is running"
   ]
  },
  {
   "cell_type": "markdown",
   "metadata": {},
   "source": [
    "# Preliminary steps"
   ]
  },
  {
   "cell_type": "markdown",
   "metadata": {},
   "source": [
    "\n",
    "## Program the FEEs\n",
    "\n",
    "- Where? `ttd11_A` (bottom-left terminal, left tab)\n",
    "- How? launch the following commands:\n",
    "```\n",
    "./progfee.sh\n",
    "./progfee_BB.sh\n",
    "```\n"
   ]
  },
  {
   "cell_type": "markdown",
   "metadata": {},
   "source": [
    "To try new firmware\n",
    "- upload your bitfile into the `Firmware/` directory \n",
    "- modify the variable `latestFirmware` in the cell below\n",
    "- execute the cell below"
   ]
  },
  {
   "cell_type": "code",
   "execution_count": null,
   "metadata": {},
   "outputs": [],
   "source": [
    "latestFirmware = \"181017_klmscint_simple_top.bit\"\n",
    "FW_source = \"Firmware/\" + latestFirmware\n",
    "FW_target = \"lastfw/\" + latestFirmware\n",
    "ftsw.shell.copyTo(FW_source, FW_target)"
   ]
  },
  {
   "cell_type": "code",
   "execution_count": null,
   "metadata": {},
   "outputs": [],
   "source": [
    "from config.Dev_details_load import Dev_details_load\n",
    "BB = Dev_details_load(file_name,KLM_Conf,'BB')\n",
    "BF = Dev_details_load(file_name,KLM_Conf,'BB')"
   ]
  },
  {
   "cell_type": "code",
   "execution_count": null,
   "metadata": {},
   "outputs": [],
   "source": [
    "BB.scrod_firmware = FW_target\n",
    "BF.scrod_firmware = FW_target\n",
    "print(ftsw.shell.sendAndRecieve(\"ls \" + FW_target))"
   ]
  },
  {
   "cell_type": "code",
   "execution_count": null,
   "metadata": {},
   "outputs": [],
   "source": [
    "ftsw.shell.sendAndRecieve(\"jtagft -191 -p1 chain\")"
   ]
  },
  {
   "cell_type": "code",
   "execution_count": null,
   "metadata": {},
   "outputs": [],
   "source": [
    "print(prog_fee(ftsw,BB))"
   ]
  },
  {
   "cell_type": "code",
   "execution_count": null,
   "metadata": {},
   "outputs": [],
   "source": [
    "print(prog_fee(ftsw,BF))"
   ]
  },
  {
   "cell_type": "markdown",
   "metadata": {},
   "source": [
    "possible errors \n",
    "\n",
    "```\n",
    "too many devices found in the jtag chain (probably noise).\n",
    "```\n"
   ]
  },
  {
   "cell_type": "markdown",
   "metadata": {},
   "source": [
    "- Check: the last messages shown in the terminal are:\n",
    "\n",
    "   `ALL KLM FEE PROG DONE!` \n",
    "   \n",
    "   and \n",
    "   \n",
    "   `ALL KLM BB FEE PROG DONE!` \n",
    "   \n",
    "   In the meanwhile, the bottom-center terminal, left tab (`ttd11_B`) should be in an ERROR  state and become purple: it's fine.\n",
    "   \n",
    "In a future modification to this Notebook the status of `ttd11_B` should actually be checked.\n"
   ]
  },
  {
   "cell_type": "markdown",
   "metadata": {},
   "source": [
    "## Program the BF2 sector\n",
    "\n",
    "(Note added on 2018-05-01: BF2 is currently masked, so the commands this section can be skipped- Now BB2 is acting as BF2 for debug interface, but script names are the same for ease of use)\n",
    "\n",
    "\n",
    "- Where? `IDLAB_A` (bottom-left terminal, right tab)\n",
    "- How? launch the following commands:\n",
    "\n",
    "```\n",
    "  impact -batch imp_prog_BF2scrods.cmd\n",
    "  impact -batch imp_prog_BF2dc.cmd\n",
    "```\n",
    "\n",
    "\n"
   ]
  },
  {
   "cell_type": "markdown",
   "metadata": {},
   "source": [
    "To change the version of the firmware that is being programmed to SCROD FPGAs:\n",
    "- move your bitfile to the `Firmware` directory on this virtual machine\n",
    "- specify the name of your bitfile under `latestFirmware` in the next cell\n",
    "- execute the next four cells\n",
    "\n"
   ]
  },
  {
   "cell_type": "code",
   "execution_count": null,
   "metadata": {},
   "outputs": [],
   "source": [
    "latestFirmware = \"181017_klmscint_simple_top.bit\"\n",
    "FW_path = \"/home/idlab/lastfw/\"\n",
    "BFIDLAB = FW_path+latestFirmware\n",
    "IDLAB_A.copyTo(\"Firmware/\"+latestFirmware, BFIDLAB)"
   ]
  },
  {
   "cell_type": "code",
   "execution_count": null,
   "metadata": {},
   "outputs": [],
   "source": [
    "impactCommand = \"imp_prog_BF2scrods_latest.cmd\""
   ]
  },
  {
   "cell_type": "code",
   "execution_count": null,
   "metadata": {},
   "outputs": [],
   "source": [
    "def CreateImpactCommandFile (bitFile, cmdFile):\n",
    "    # Batch command for programming SCRODs via command line\n",
    "    outCmdFile = 'setMode -bs \\nsetMode -bs \\nsetMode -bs \\nsetMode -bs \\nsetCable -target \"digilent_plugin DEVICE=SN:210249992992 FREQUENCY=10000000\" \\nIdentify -inferir  \\nidentifyMPM  \\nassignFile -p 1 -file \"' + bitFile + '\"\\nProgram -p 1  \\nsetCable -target \"digilent_plugin DEVICE=SN:210249993114 FREQUENCY=10000000\" \\nIdentify -inferir  \\nidentifyMPM  \\nassignFile -p 1 -file \"' + bitFile + '\"\\nProgram -p 1  \\nsetMode -bs \\nsetMode -bs \\ndeleteDevice -position 1 \\nsetMode -bs \\nsetMode -ss \\nsetMode -sm \\nsetMode -hw140 \\nsetMode -spi \\nsetMode -acecf \\nsetMode -acempm \\nsetMode -pff'\n",
    "    print(outCmdFile)\n",
    "    with open(cmdFile, 'w') as f:\n",
    "        f.write(outCmdFile)"
   ]
  },
  {
   "cell_type": "code",
   "execution_count": null,
   "metadata": {
    "scrolled": false
   },
   "outputs": [],
   "source": [
    "CreateImpactCommandFile(BFIDLAB, impactCommand)\n",
    "IDLAB_A.copyTo(impactCommand, impactCommand)\n"
   ]
  },
  {
   "cell_type": "code",
   "execution_count": null,
   "metadata": {
    "run_control": {
     "marked": true
    }
   },
   "outputs": [],
   "source": [
    "print(IDLAB_A.sendAndRecieve(\"source bashrc-ise.sh;impact -batch \" + impactCommand))"
   ]
  },
  {
   "cell_type": "code",
   "execution_count": null,
   "metadata": {},
   "outputs": [],
   "source": [
    "\n",
    "print(IDLAB_A.sendAndRecieve(\"source bashrc-ise.sh;impact -batch imp_prog_BF2dc.cmd\"))"
   ]
  },
  {
   "cell_type": "markdown",
   "metadata": {},
   "source": [
    "- Check: one of the last message shown in the terminal is:\n",
    "\n",
    "```\n",
    "INFO:iMPACT - '1': Checking done pin....done.   / /   '1': Programmed successfully.   / /   Elapsed time =  X sec.\n",
    "```\n",
    "\n",
    "\n",
    "  Ignore further error messages!  \n",
    "  \n",
    "  \n",
    "  ```\n",
    "  INFO:iMPACT - '1': Checking done pin....done.\n",
    "'1': Programmed successfully.\n",
    "Elapsed time =     10 sec.\n",
    "ERROR:iMPACT - SSerial mode is no longer supported by impact software , please\n",
    "   use 11.4 or older version of software.\n",
    "```\n",
    "\n"
   ]
  },
  {
   "cell_type": "markdown",
   "metadata": {},
   "source": [
    "## Prepare ttd11\n",
    "- Where? `ttd11_A` (bottom-left terminal, left tab)\n",
    "- How? launch the following commands:\n",
    "```        \n",
    "  resetft -191\n",
    "```\n",
    "  With EKLM: \n",
    "```  \n",
    "cd withEKLM; ./prepft_butBF2_withEKLM.sh\n",
    "```\n",
    "\n",
    "   Without EKLM: \n",
    "```\n",
    "./prepft_butBF2.sh\n",
    "```\n",
    "\n",
    "\n"
   ]
  },
  {
   "cell_type": "code",
   "execution_count": null,
   "metadata": {},
   "outputs": [],
   "source": [
    "useEKLM = False\n",
    "if useEKLM:\n",
    "    print(prepft(ftsw,config.klm_prepft_with_EKLM))\n",
    "else:\n",
    "    print(prepft(ftsw,BB))\n"
   ]
  },
  {
   "cell_type": "markdown",
   "metadata": {},
   "source": [
    "with EKLM not yet tested\n",
    "\n",
    "```python\n",
    "useEKLM = False\n",
    "if useEKLM:\n",
    "    print(ttd11_A.sendAndRecieve(\"cd withEKLM; ./prepft_butBF2_withEKLM.sh\"))\n",
    "else:\n",
    "    print(ttd11_A.sendAndRecieve(\"./prepft_butBF2.sh\"))\n",
    "```\n",
    "\n"
   ]
  },
  {
   "cell_type": "markdown",
   "metadata": {},
   "source": [
    "- Check: \n",
    "  \n",
    "  the last message shown in the terminal is:\n",
    "```\n",
    "resetting trigger\n",
    "```"
   ]
  },
  {
   "cell_type": "markdown",
   "metadata": {},
   "source": [
    "## Clear \"b2linkdown\" after reprograming\n",
    "\n",
    "Usually you will see `b2linkdown` after reprograming, `b2linkdown` shown in the the bottom-center terminal. Run the following:\n",
    "\n",
    "\n",
    "- At `KLM01_B` run:\n",
    "```\n",
    "~/run/scripts/batchTesths  \n",
    "```\n",
    "\n",
    "  `batchTesths` does \"tesths -abcd\" for all four coppers)\n",
    "\n",
    "\n",
    "- At `ttd11_A` run:\n",
    "```\n",
    "./prepft_butBF2.sh\n",
    "```"
   ]
  },
  {
   "cell_type": "code",
   "execution_count": null,
   "metadata": {},
   "outputs": [],
   "source": [
    "print(Sh_Factory.run_on('cpr7001',\"tesths -abcd\"))"
   ]
  },
  {
   "cell_type": "code",
   "execution_count": null,
   "metadata": {},
   "outputs": [],
   "source": [
    "print(Sh_Factory.run_on('cpr7002',\"tesths -abcd\"))"
   ]
  },
  {
   "cell_type": "code",
   "execution_count": null,
   "metadata": {},
   "outputs": [],
   "source": [
    "print(Sh_Factory.run_on('cpr7003',\"tesths -abcd\"))"
   ]
  },
  {
   "cell_type": "code",
   "execution_count": null,
   "metadata": {},
   "outputs": [],
   "source": [
    "print(Sh_Factory.run_on('cpr7004',\"tesths -abcd\"))"
   ]
  },
  {
   "cell_type": "code",
   "execution_count": null,
   "metadata": {},
   "outputs": [],
   "source": [
    "print(prepft(ftsw,config.klm_prepft))"
   ]
  },
  {
   "cell_type": "code",
   "execution_count": null,
   "metadata": {},
   "outputs": [],
   "source": [
    "print(ftsw.status())"
   ]
  },
  {
   "cell_type": "markdown",
   "metadata": {},
   "source": [
    "then you should able to see `b2linkdown` was cleared, and `FTSW` in yellow READY state."
   ]
  },
  {
   "cell_type": "markdown",
   "metadata": {},
   "source": [
    "# Launch the Slow Control\n",
    "\n",
    "- Where? `KLM01_D` (bottom-right terminal, right tab)\n",
    "- How? launch the following commands:\n",
    "\n",
    "\n",
    "```\n",
    "    ~/run/scripts/load_brcl.sh rcl_rev2_40_th-100  \n",
    "```\n",
    "\n",
    "    \n",
    "    (NOTE: Every time you send this command, you need to resend the following commands)\n",
    "\n",
    "    NOTE: kill all that `watch` commands which are reading status of registers to avoid any conflict when you issue the load_brcl.sh. Kill the \n",
    "  \n",
    "  ```\n",
    "    watch ./checkpcr \n",
    "```\n",
    "  \n",
    "    and \n",
    "  \n",
    "  ```\n",
    "    watch ./dcregs.sh\n",
    "```\n",
    "\n",
    "    Don't keep `watch ./dcregs.sh` running! Unless after reprograming you want to check the status, you run\n",
    "\n",
    "```\n",
    "    watch ./dcreg.sh\n",
    "```\n",
    "\n",
    "    then kill it right away otherwise you will forget later.  "
   ]
  },
  {
   "cell_type": "code",
   "execution_count": null,
   "metadata": {},
   "outputs": [],
   "source": [
    "from script.load_brcl import load_brcl\n",
    "from script.load_klm_calset import load_klm_calset\n",
    "RCL = RCL_Load_Config(file_name,KLM_Conf)"
   ]
  },
  {
   "cell_type": "code",
   "execution_count": null,
   "metadata": {},
   "outputs": [],
   "source": [
    "load_brcl(shell_factory=Sh_Factory,RCL=RCL,Parallel=True)"
   ]
  },
  {
   "cell_type": "markdown",
   "metadata": {},
   "source": [
    "- Check: the last message shown in the terminal is:\n",
    "\n",
    "`window fine stop   / /   reg0033 = XXXXXXXX`\n",
    "\n",
    "`Successfull configured ...`\n"
   ]
  },
  {
   "cell_type": "markdown",
   "metadata": {},
   "source": [
    "- Then run this command to send MPPC gain settings to Layer 1 on Barrel - wait for all windows to finish completely before launching next one\n",
    "```\n",
    "cd ~/run/scripts\n",
    "./load_klm_calset_L1.sh calset_171118_031700 200\n",
    "```"
   ]
  },
  {
   "cell_type": "code",
   "execution_count": null,
   "metadata": {},
   "outputs": [],
   "source": [
    "load_klm_calset(Sh_Factory,RCL,True)"
   ]
  },
  {
   "cell_type": "markdown",
   "metadata": {},
   "source": [
    "- Wait for command to finish (it opens 16 concurrent terminals, so need to have X tunneling)"
   ]
  },
  {
   "cell_type": "markdown",
   "metadata": {},
   "source": [
    "- after this run the following command:\n",
    "\n",
    "    `./load_klm_calset_L2.sh calset_171118_060700 200`"
   ]
  },
  {
   "cell_type": "markdown",
   "metadata": {},
   "source": [
    "- wait for previous command to completely finish, then set lookback and width for scintilaltor "
   ]
  },
  {
   "cell_type": "markdown",
   "metadata": {},
   "source": [
    "- make sure you do not use any other scint. lookback commands after this:\n",
    "- `./set_addl.sh` (this command is very quiet) (if you see \"Device or resource busy\" message, just run this command again.)\n"
   ]
  },
  {
   "cell_type": "code",
   "execution_count": null,
   "metadata": {},
   "outputs": [],
   "source": [
    "print(Sh_Factory.run_on('klm01',\"cd ~/run/scripts; ./set_addl.sh\"))"
   ]
  },
  {
   "cell_type": "markdown",
   "metadata": {},
   "source": [
    "## Reset the trigger\n",
    "- Where? `ttd11_A` (bottom-left terminal, left tab)\n",
    "- How? launch the following command:\n",
    "\n",
    "```\n",
    "resetft -191\n",
    "```\n"
   ]
  },
  {
   "cell_type": "code",
   "execution_count": null,
   "metadata": {},
   "outputs": [],
   "source": [
    "ftsw.reset()"
   ]
  },
  {
   "cell_type": "markdown",
   "metadata": {},
   "source": [
    "- Check: the bottom-center terminal, left tab `ttd11_B` should pass in a READY state and become yellow "
   ]
  },
  {
   "cell_type": "markdown",
   "metadata": {},
   "source": [
    "# Start a run\n"
   ]
  },
  {
   "cell_type": "markdown",
   "metadata": {},
   "source": [
    "## Prepare basf2:\n",
    "- Where? `@klm01` (top-left terminal, left tab)\n",
    "- How? launch the following command:\n",
    "  - With EKLM: \n",
    "  ```bash\n",
    "  cd ~/basf2/release/daq/copper/daq_scripts/beklm; ./run_start_mono_klm_butBF2.sh\n",
    "  ```\n",
    "  - Without EKLM:\n",
    "  ```bash\n",
    "  ./run_start_mono_Barrel_butBF2.sh\n",
    "  ```\n",
    "- Check: eight little windows should appear in the display, the top four windows should all show \"ffffffff\" at tail.\n",
    "- If you re-login klm01 as b2klm, need to setup basf2 environment, do the following (you can type \"basf\" then tab to see whether basf2 command is available, if it is not, it means basf2 environment is not set)\n",
    "```bash\n",
    "source ~b2klm/basf2/tools/setup_belle2\n",
    "cd ~b2klm/basf2/release/; setuprel\n",
    "cd ~/basf2/release/daq/copper/daq_scripts\n",
    "``` \n"
   ]
  },
  {
   "cell_type": "markdown",
   "metadata": {},
   "source": [
    "### Setup basf2 environment and release\n",
    "- typical output:\n",
    "```\n",
    "'cd /home/group/b2klm/basf2_local/release/daq/copper/daq_scripts\\r'\n",
    "```"
   ]
  },
  {
   "cell_type": "code",
   "execution_count": 73,
   "metadata": {},
   "outputs": [
    {
     "data": {
      "text/plain": [
       "'cd /home/group/b2klm/basf2_local/release/daq/copper/daq_scripts\\r'"
      ]
     },
     "execution_count": 73,
     "metadata": {},
     "output_type": "execute_result"
    }
   ],
   "source": [
    "KLM01_B.sendAndRecieveRaw(\"cd /home/group/b2klm/basf2_local/tools_161125/; source setup_belle2\")\n",
    "KLM01_B.sendAndRecieveRaw(\"cd /home/group/b2klm/basf2_local/release/; setuprel\")\n",
    "KLM01_B.sendAndRecieveRaw(\"cd /home/group/b2klm/basf2_local/release/daq/copper/daq_scripts\")"
   ]
  },
  {
   "cell_type": "markdown",
   "metadata": {},
   "source": [
    "### Designate COPPER nodes and readout PCs for data acquisition\n",
    "\n"
   ]
  },
  {
   "cell_type": "code",
   "execution_count": 68,
   "metadata": {},
   "outputs": [],
   "source": [
    "des_ser_COPPER_main = \"/home/group/b2klm/basf2_local/release/daq/ropc/des_ser_COPPER_main\"\n",
    "des_ser_ROPC_main   = \"/home/group/b2klm/basf2_local/release/daq/ropc/des_ser_ROPC_main\"\n",
    "\n",
    "FINNESEbitflag  = [\"14\",\"15\",\"15\",\"15\"]\n",
    "COPPER_hostname = [0 for i in range(4)]\n",
    "COPPER_nodeID   = [0 for i in range(4)]\n",
    "eb0_port        = [0 for i in range(4)]\n",
    "COPPER_shell    = [0 for i in range(4)]\n",
    "\n",
    "UseNSM_bool       = str(0)\n",
    "NSMnodeName_cpr   = str(1)\n",
    "NSMnodeName_ropc  = 'hogehoge1000'\n",
    "\n",
    "for i in range(4):\n",
    "    COPPER_hostname[i] = 'cpr700' + str(i+1)\n",
    "    COPPER_nodeID[i] = '11744051' + str(i+3)\n",
    "    eb0_port[i] = '3400' + str(i+1)\n",
    "    COPPER_shell[i] = Sh_Factory.get_shell(COPPER_hostname[i])\n",
    "    COPPER_shell[i].sendAndRecieve(des_ser_COPPER_main +\" \"+ COPPER_hostname[i] +\" \"+ COPPER_nodeID[i] +\" \"+ FINNESEbitflag[i] +\" \"+ UseNSM_bool +\" \"+ NSMnodeName_cpr+ \"; sleep 3000000;\")\n",
    "    KLM01_B.sendAndRecieveRaw(des_ser_ROPC_main +\" \"+ COPPER_hostname[i] +\" \"+ UseNSM_bool +\" \"+ eb0_port[i] +\" \"+ NSMnodeName_ropc+ \"; sleep 3000000;\")\n",
    "\n",
    "#cpr7001 = Sh_Factory.get_shell('cpr7001')\n",
    "#cpr7002 = Sh_Factory.get_shell('cpr7002')\n",
    "#cpr7003 = Sh_Factory.get_shell('cpr7003')\n",
    "#cpr7004 = Sh_Factory.get_shell('cpr7004')\n",
    "# Usage : RecvSendCOPPER.py <COPPER hostname> <COPPER node ID> <bit flag of FINNESEs> <Use NSM(Network Shared Memory)? yes=1/no=0> <NSM nodename>'\n",
    "# bit flag of FINESSE\n",
    "# slot a : 1, slot b : 2, slot c : 4, slot d : 8\n",
    "# e.g. slot abcd -> bitflag=15, slot bd -> bit flag=10\n",
    "#cpr7001.sendAndRecieve(des_ser_COPPER_main + \" cpr7001 117440513 14 0 1; sleep 3000000;\")\n",
    "#cpr7002.sendAndRecieve(des_ser_COPPER_main + \" cpr7002 117440514 15 0 1; sleep 3000000;\")\n",
    "#cpr7003.sendAndRecieve(des_ser_COPPER_main + \" cpr7003 117440515 15 0 1; sleep 3000000;\")\n",
    "#cpr7004.sendAndRecieve(des_ser_COPPER_main + \" cpr7004 117440516 15 0 1; sleep 3000000;\")\n",
    "#\n",
    "# basf2 program BEFORE eb0(event builder 0) on a readout PC\n",
    "#\n",
    "# Usage : RecvStream0.py <COPPER hostname> <Use NSM(Network Shared Memory)? yes=1/no=0> <port # of eb0> <NSM nodename>\n",
    "#KLM01_B.sendAndRecieveRaw(des_ser_ROPC_main + \" cpr7001 0 34001 hogehoge1000; sleep 3000000;\")\n",
    "#KLM01_B.sendAndRecieveRaw(des_ser_ROPC_main + \" cpr7002 0 34002 hogehoge1000; sleep 3000000;\")\n",
    "#KLM01_B.sendAndRecieveRaw(des_ser_ROPC_main + \" cpr7003 0 34003 hogehoge1000; sleep 3000000;\")\n",
    "#KLM01_B.sendAndRecieveRaw(des_ser_ROPC_main + \" cpr7004 0 34004 hogehoge1000; sleep 3000000;\")\n"
   ]
  },
  {
   "cell_type": "code",
   "execution_count": 111,
   "metadata": {},
   "outputs": [],
   "source": [
    "#print(KLM01_B.sendAndRecieveRaw(\"cat /home/group/b2klm/basf2_local/release/daq/rawdata/src/DesSerPrePC.cc\"))\n",
    "#print(KLM01_B.sendAndRecieveRaw(\"cat /home/group/b2klm/basf2_local/release/daq/rawdata/src/DesSerCOPPER.cc\"))\n",
    "#print(KLM01_B.sendAndRecieveRaw(\"cat /home/group/b2klm/basf2_local/release/daq/ropc/des_ser_COPPER_main.cc\"))\n",
    "#print(KLM01_B.sendAndRecieveRaw(\"cat /home/group/b2klm/basf2_local/release/daq/ropc/des_ser_ROPC_main.cc\"))\n",
    "#print(KLM01_A.copyFrom(\"/home/group/b2klm/basf2_local/release/daq/copper/daq_scripts/RecvStream2_mono.sh\",\"RecvStream2_mono.sh\"))"
   ]
  },
  {
   "cell_type": "markdown",
   "metadata": {},
   "source": [
    "## Start the run:\n",
    "- Where? `@ttd11` (bottom-left terminal, left tab)\n",
    "\n",
    "- How? launch the following command:\n",
    "```\n",
    "trigft -191 <trigger_type> <trigger_rate> [<number_of_events>]\n",
    "```\n",
    "    (Launch \"trigft\" without any arguments to know which arguments the \"trigft\" command can receive)\n",
    "    \n",
    "    \n",
    "- Check: the `bottom-center terminal`, `left tab` (@ttd11) should pass in a RUNNING state and become `blue` (smile)\n",
    "\n"
   ]
  },
  {
   "cell_type": "code",
   "execution_count": null,
   "metadata": {},
   "outputs": [],
   "source": []
  },
  {
   "cell_type": "markdown",
   "metadata": {},
   "source": [
    "## Wait:\n",
    "- Where? `@klm01` (bottom-right terminal, left tab)\n",
    "- Check: here the events recorded by each COPPER are shown: within each COPPER the event number must be the same (plus or minus 20 at high rate) and tipically, if N is the event number: N(cpr7001) < N(cpr7002) < N(cpr7003) < N(cpr7004)"
   ]
  },
  {
   "cell_type": "code",
   "execution_count": null,
   "metadata": {},
   "outputs": [],
   "source": []
  },
  {
   "cell_type": "markdown",
   "metadata": {},
   "source": [
    "# Stop a run\n"
   ]
  },
  {
   "cell_type": "markdown",
   "metadata": {},
   "source": [
    "##  Stop the trigger:\n",
    "- Where? `@ttd11` (bottom-left terminal, left tab)\n",
    "\n",
    "- How? launch the following commands:\n",
    "```\n",
    "resetft -191\n",
    "```\n",
    "- Check: the last message shown in the terminal is: `resetting trigger`\n",
    "- Check: in the `bottom-right terminal`, `left tab` (@klm01) all the numbers go to 0; in the `bottom-center terminal`, `left tab` (@ttd11) many numbers go to 0 (the trigger is correctly reset)\n",
    "\n"
   ]
  },
  {
   "cell_type": "code",
   "execution_count": null,
   "metadata": {},
   "outputs": [],
   "source": []
  },
  {
   "cell_type": "markdown",
   "metadata": {},
   "source": [
    "##  Stop the run:\n",
    "- Where? `@klm01` (top-left terminal, left tab)\n",
    "\n",
    "- How? launch the following commands:\n",
    "```\n",
    "    CTRL+C\n",
    "    ~/bin/kill_basf2_all.sh\n",
    "```\n",
    "- Check: all the small windows are closed, in the terminal is shown the list of all the COPPERs and the last message shown is `Killed`\n"
   ]
  },
  {
   "cell_type": "code",
   "execution_count": null,
   "metadata": {},
   "outputs": [],
   "source": []
  },
  {
   "cell_type": "markdown",
   "metadata": {},
   "source": [
    "## Rename the output `.sroot` file:\n",
    "- Where? `@klm01` (top-left terminal, left tab)\n",
    "\n",
    "- How? launch the following command:\n",
    "```\n",
    "mv root_output.sroot <new_file_name>\n",
    "```\n",
    "  - to check naming criteria used to rename the previous runs files use\n",
    "```\n",
    "ls | grep .sroot\n",
    "```\n"
   ]
  },
  {
   "cell_type": "code",
   "execution_count": null,
   "metadata": {},
   "outputs": [],
   "source": []
  }
 ],
 "metadata": {
  "kernelspec": {
   "display_name": "Python 3",
   "language": "python",
   "name": "python3"
  },
  "language_info": {
   "codemirror_mode": {
    "name": "ipython",
    "version": 3
   },
   "file_extension": ".py",
   "mimetype": "text/x-python",
   "name": "python",
   "nbconvert_exporter": "python",
   "pygments_lexer": "ipython3",
   "version": "3.6.5"
  },
  "toc": {
   "base_numbering": 1,
   "nav_menu": {},
   "number_sections": true,
   "sideBar": true,
   "skip_h1_title": false,
   "title_cell": "Table of Contents",
   "title_sidebar": "Contents",
   "toc_cell": false,
   "toc_position": {},
   "toc_section_display": true,
   "toc_window_display": true
  },
  "varInspector": {
   "cols": {
    "lenName": 16,
    "lenType": 16,
    "lenVar": 40
   },
   "kernels_config": {
    "python": {
     "delete_cmd_postfix": "",
     "delete_cmd_prefix": "del ",
     "library": "var_list.py",
     "varRefreshCmd": "print(var_dic_list())"
    },
    "r": {
     "delete_cmd_postfix": ") ",
     "delete_cmd_prefix": "rm(",
     "library": "var_list.r",
     "varRefreshCmd": "cat(var_dic_list()) "
    }
   },
   "types_to_exclude": [
    "module",
    "function",
    "builtin_function_or_method",
    "instance",
    "_Feature"
   ],
   "window_display": false
  }
 },
 "nbformat": 4,
 "nbformat_minor": 2
}
