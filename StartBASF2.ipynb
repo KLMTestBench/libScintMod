{
 "cells": [
  {
   "cell_type": "code",
   "execution_count": null,
   "metadata": {},
   "outputs": [],
   "source": [
    "import  config.config_kek as  config\n",
    "from Linux_Helpers.remoteshell2 import remoteShell2\n",
    "from Linux_Helpers.remoteshell3 import remoteShell3\n",
    "\n",
    "#from equipment.ScintilatorReadout import ScintilatorReadout\n",
    "from equipment.py_ftsw import py_ftsw\n",
    "from script.prog_fee import prog_fee\n",
    "from script.prepft import prepft\n",
    "import time"
   ]
  },
  {
   "cell_type": "code",
   "execution_count": null,
   "metadata": {},
   "outputs": [],
   "source": [
    "from config.load_known_hosts import load_known_hosts\n",
    "from Linux_Helpers.ssh_host import shell_factory,ssh_host_obj,convertKnownHost2ssh_host"
   ]
  },
  {
   "cell_type": "code",
   "execution_count": null,
   "metadata": {},
   "outputs": [],
   "source": [
    "from config.RCL_Load_Config import RCL_Load_Config"
   ]
  },
  {
   "cell_type": "code",
   "execution_count": null,
   "metadata": {},
   "outputs": [],
   "source": [
    "from config.ftsw_load_config import ftsw_load_config\n",
    "from equipment.py_ftsw import create_ftsw"
   ]
  },
  {
   "cell_type": "code",
   "execution_count": null,
   "metadata": {},
   "outputs": [],
   "source": [
    "from __future__ import print_function\n",
    "from ipywidgets import interact, interactive, fixed, interact_manual\n",
    "\n",
    "from ipywidgets import widgets,Layout\n",
    "import ipython_blocking\n",
    "ipython_blocking.load_ipython_extensions()\n",
    "\n",
    "from IPython.display import clear_output\n",
    "\n",
    "from Jupyter_helpers.printTextArea import printTextArea\n",
    "from Jupyter_helpers.TextAreaWithButton import TextAreaWithButton"
   ]
  },
  {
   "cell_type": "code",
   "execution_count": null,
   "metadata": {},
   "outputs": [],
   "source": [
    "file_name=\"config/known_host_KEK.xlsx\"\n",
    "KLM_Conf = \"BFR_a_Not_working\"\n",
    "\n",
    "Known_hosts = load_known_hosts(file_name)\n",
    "Sh_Factory = shell_factory(Known_hosts)\n",
    "ftsw_conf = ftsw_load_config(file_name,KLM_Conf)"
   ]
  },
  {
   "cell_type": "code",
   "execution_count": null,
   "metadata": {},
   "outputs": [],
   "source": [
    "def sshCommandBox(shellConfig,Command):\n",
    "    y=TextAreaWithButton(Name=shellConfig.ConfigName,FunctionName=Command)\n",
    "    ssh_shell = remoteShell3(host=shellConfig)\n",
    "    ssh_shell.streamOut(streamFunction=y)\n",
    "\n",
    "    def ssh_shell_command():\n",
    "        ssh_shell.sendLine(Command)\n",
    "    \n",
    "\n",
    "    y.setFunction(ssh_shell_command)\n",
    "    y.Display()\n",
    "    \n",
    "    return ssh_shell"
   ]
  },
  {
   "cell_type": "code",
   "execution_count": null,
   "metadata": {},
   "outputs": [],
   "source": [
    "ss=convertKnownHost2ssh_host(Known_hosts,'cpr7001')\n",
    "cpr7001 = sshCommandBox(ss,\"ls\")"
   ]
  },
  {
   "cell_type": "code",
   "execution_count": null,
   "metadata": {},
   "outputs": [],
   "source": [
    "ss=convertKnownHost2ssh_host(Known_hosts,'cpr7002')\n",
    "cpr7002 = sshCommandBox(ss,\"ls\")"
   ]
  },
  {
   "cell_type": "code",
   "execution_count": null,
   "metadata": {},
   "outputs": [],
   "source": [
    "ss=convertKnownHost2ssh_host(Known_hosts,'cpr7003')\n",
    "cpr7003 = sshCommandBox(ss,\"ls\")\n",
    "\n"
   ]
  },
  {
   "cell_type": "code",
   "execution_count": null,
   "metadata": {},
   "outputs": [],
   "source": [
    "ss=convertKnownHost2ssh_host(Known_hosts,'cpr7004')\n",
    "cpr7004 = sshCommandBox(ss,\"ls\")"
   ]
  },
  {
   "cell_type": "code",
   "execution_count": null,
   "metadata": {},
   "outputs": [],
   "source": []
  },
  {
   "cell_type": "code",
   "execution_count": null,
   "metadata": {},
   "outputs": [],
   "source": [
    "#print(Sh_Factory.run_on('cpr7001','ls /home/group/b2klm/basf2_local/release/daq/copper/daq_scripts/copper_mono.sh  117440513 14 0 1'))"
   ]
  }
 ],
 "metadata": {
  "kernelspec": {
   "display_name": "Python 3",
   "language": "python",
   "name": "python3"
  },
  "language_info": {
   "codemirror_mode": {
    "name": "ipython",
    "version": 3
   },
   "file_extension": ".py",
   "mimetype": "text/x-python",
   "name": "python",
   "nbconvert_exporter": "python",
   "pygments_lexer": "ipython3",
   "version": "3.6.5"
  },
  "toc": {
   "base_numbering": 1,
   "nav_menu": {},
   "number_sections": true,
   "sideBar": true,
   "skip_h1_title": false,
   "title_cell": "Table of Contents",
   "title_sidebar": "Contents",
   "toc_cell": false,
   "toc_position": {},
   "toc_section_display": true,
   "toc_window_display": false
  },
  "varInspector": {
   "cols": {
    "lenName": 16,
    "lenType": 16,
    "lenVar": 40
   },
   "kernels_config": {
    "python": {
     "delete_cmd_postfix": "",
     "delete_cmd_prefix": "del ",
     "library": "var_list.py",
     "varRefreshCmd": "print(var_dic_list())"
    },
    "r": {
     "delete_cmd_postfix": ") ",
     "delete_cmd_prefix": "rm(",
     "library": "var_list.r",
     "varRefreshCmd": "cat(var_dic_list()) "
    }
   },
   "types_to_exclude": [
    "module",
    "function",
    "builtin_function_or_method",
    "instance",
    "_Feature"
   ],
   "window_display": false
  }
 },
 "nbformat": 4,
 "nbformat_minor": 2
}
